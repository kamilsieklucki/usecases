{
 "cells": [
  {
   "cell_type": "code",
   "execution_count": 25,
   "metadata": {},
   "outputs": [
    {
     "data": {
      "text/plain": [
       "3252897.0"
      ]
     },
     "execution_count": 25,
     "metadata": {},
     "output_type": "execute_result"
    }
   ],
   "source": [
    "# 1st puzzle\n",
    "# 1)\n",
    "import numpy as np\n",
    "import pandas as pd\n",
    "x = np.r_[143843, 144558, 116244, 117881, 138945, 97456, 58650, 117108, 92832, 65454, 134030, 96221, 139052, 66021, 95159, 60921, 97715, 55947, 64516, 112463, 109063, 117606, 74592, 53954, 57131, 109084, 94829, 146641, 90803, 82129, 51563, 135004, 62815, 51944, 98078, 87360, 133867, 130745, 118620, 67247, 84032, 76912, 96189, 146929, 50217, 129260, 52994, 148798, 62244, 83613, 93746, 93226, 84804, 70442, 74736, 96469, 124597, 128177, 60771, 92722, 125505, 58898, 62380, 107386, 126861, 50007, 107730, 130300, 85507, 147266, 57945, 88357, 79129, 147921, 126996, 95815, 91783, 125716, 94350, 131258, 90897, 107305, 71579, 104766, 104400, 148072, 95196, 104221, 96059, 137814, 104159, 51053, 73143, 137363, 129416, 123035, 82901, 67221, 77263, 73447]\n",
    "\n",
    "x2 = np.floor(x / 3) - 2\n",
    "np.sum(x2)"
   ]
  },
  {
   "cell_type": "code",
   "execution_count": 26,
   "metadata": {},
   "outputs": [
    {
     "data": {
      "text/plain": [
       "4876469.0"
      ]
     },
     "execution_count": 26,
     "metadata": {},
     "output_type": "execute_result"
    }
   ],
   "source": [
    "# 2)\n",
    "wynik = []\n",
    "y = np.r_[14, 1969, 100756]\n",
    "for z in x:\n",
    "    w = 0\n",
    "    while z > 0:\n",
    "        z = np.floor(z / 3) - 2\n",
    "        if z <= 0: break\n",
    "        w += z\n",
    "    wynik.append(w)\n",
    "    \n",
    "sum(wynik)"
   ]
  },
  {
   "cell_type": "code",
   "execution_count": 27,
   "metadata": {},
   "outputs": [],
   "source": [
    "# 2nd puzzle\n",
    "# 1)\n",
    "test = [1,0,0,3,1,1,2,3,1,3,4,3,1,5,0,3,2,9,1,19,1,5,19,23,2,9,23,27,1,27,5,31,2,31,13,35,1,35,9,39,1,39,10,43,2,43,9,47,1,47,5,51,2,13,51,55,1,9,55,59,1,5,59,63,2,6,63,67,1,5,67,71,1,6,71,75,2,9,75,79,1,79,13,83,1,83,13,87,1,87,5,91,1,6,91,95,2,95,13,99,2,13,99,103,1,5,103,107,1,107,10,111,1,111,13,115,1,10,115,119,1,9,119,123,2,6,123,127,1,5,127,131,2,6,131,135,1,135,2,139,1,139,9,0,99,2,14,0,0]\n",
    "\n",
    "test[1] = 12\n",
    "test[2] = 2"
   ]
  },
  {
   "cell_type": "code",
   "execution_count": 28,
   "metadata": {},
   "outputs": [],
   "source": [
    "start = 0"
   ]
  },
  {
   "cell_type": "code",
   "execution_count": 29,
   "metadata": {},
   "outputs": [],
   "source": [
    "while test[start] != 99:\n",
    "    if test[start] == 1:\n",
    "        tmp = test[test[start + 1]] + test[test[start + 2]]\n",
    "        test[test[start + 3]] = tmp\n",
    "    elif test[start] == 2:\n",
    "        tmp = test[test[start + 1]] * test[test[start + 2]]\n",
    "        test[test[start + 3]] = tmp\n",
    "    start += 4"
   ]
  },
  {
   "cell_type": "code",
   "execution_count": 30,
   "metadata": {},
   "outputs": [
    {
     "name": "stdout",
     "output_type": "stream",
     "text": [
      "[5110675, 12, 2, 2, 1, 1, 2, 3, 1, 3, 4, 3, 1, 5, 0, 3, 2, 9, 1, 36, 1, 5, 19, 37, 2, 9, 23, 111, 1, 27, 5, 112, 2, 31, 13, 560, 1, 35, 9, 563, 1, 39, 10, 567, 2, 43, 9, 1701, 1, 47, 5, 1702, 2, 13, 51, 8510, 1, 9, 55, 8513, 1, 5, 59, 8514, 2, 6, 63, 17028, 1, 5, 67, 17029, 1, 6, 71, 17031, 2, 9, 75, 51093, 1, 79, 13, 51098, 1, 83, 13, 51103, 1, 87, 5, 51104, 1, 6, 91, 51106, 2, 95, 13, 255530, 2, 13, 99, 1277650, 1, 5, 103, 1277651, 1, 107, 10, 1277655, 1, 111, 13, 1277660, 1, 10, 115, 1277664, 1, 9, 119, 1277667, 2, 6, 123, 2555334, 1, 5, 127, 2555335, 2, 6, 131, 5110670, 1, 135, 2, 5110672, 1, 139, 9, 0, 99, 2, 14, 0, 0]\n"
     ]
    }
   ],
   "source": [
    "print(test)"
   ]
  },
  {
   "cell_type": "code",
   "execution_count": 31,
   "metadata": {},
   "outputs": [
    {
     "ename": "StopIteration",
     "evalue": "",
     "output_type": "error",
     "traceback": [
      "\u001b[1;31m---------------------------------------------------------------------------\u001b[0m",
      "\u001b[1;31mStopIteration\u001b[0m                             Traceback (most recent call last)",
      "\u001b[1;32m<ipython-input-31-855c7df62efa>\u001b[0m in \u001b[0;36m<module>\u001b[1;34m\u001b[0m\n\u001b[0;32m     17\u001b[0m         \u001b[1;32mif\u001b[0m \u001b[0mtest\u001b[0m\u001b[1;33m[\u001b[0m\u001b[1;36m0\u001b[0m\u001b[1;33m]\u001b[0m \u001b[1;33m==\u001b[0m \u001b[1;36m19690720\u001b[0m\u001b[1;33m:\u001b[0m\u001b[1;33m\u001b[0m\u001b[1;33m\u001b[0m\u001b[0m\n\u001b[0;32m     18\u001b[0m             \u001b[0mxyz\u001b[0m \u001b[1;33m=\u001b[0m \u001b[1;33m[\u001b[0m\u001b[0mi\u001b[0m\u001b[1;33m,\u001b[0m \u001b[0mj\u001b[0m\u001b[1;33m]\u001b[0m\u001b[1;33m\u001b[0m\u001b[1;33m\u001b[0m\u001b[0m\n\u001b[1;32m---> 19\u001b[1;33m             \u001b[1;32mraise\u001b[0m \u001b[0mStopIteration\u001b[0m\u001b[1;33m\u001b[0m\u001b[1;33m\u001b[0m\u001b[0m\n\u001b[0m",
      "\u001b[1;31mStopIteration\u001b[0m: "
     ]
    }
   ],
   "source": [
    "# 2)\n",
    "for i in range(100):\n",
    "    for j in range(100):\n",
    "        test = [1,0,0,3,1,1,2,3,1,3,4,3,1,5,0,3,2,9,1,19,1,5,19,23,2,9,23,27,1,27,5,31,2,31,13,35,1,35,9,39,1,39,10,43,2,43,9,47,1,47,5,51,2,13,51,55,1,9,55,59,1,5,59,63,2,6,63,67,1,5,67,71,1,6,71,75,2,9,75,79,1,79,13,83,1,83,13,87,1,87,5,91,1,6,91,95,2,95,13,99,2,13,99,103,1,5,103,107,1,107,10,111,1,111,13,115,1,10,115,119,1,9,119,123,2,6,123,127,1,5,127,131,2,6,131,135,1,135,2,139,1,139,9,0,99,2,14,0,0]\n",
    "        test[1] = i\n",
    "        test[2] = j\n",
    "        start = 0\n",
    "\n",
    "        while test[start] != 99:\n",
    "            if test[start] == 1:\n",
    "                tmp = test[test[start + 1]] + test[test[start + 2]]\n",
    "                test[test[start + 3]] = tmp\n",
    "            elif test[start] == 2:\n",
    "                tmp = test[test[start + 1]] * test[test[start + 2]]\n",
    "                test[test[start + 3]] = tmp\n",
    "            start += 4\n",
    "        if test[0] == 19690720:\n",
    "            xyz = [i, j]\n",
    "            raise StopIteration\n"
   ]
  },
  {
   "cell_type": "code",
   "execution_count": 32,
   "metadata": {},
   "outputs": [
    {
     "name": "stdout",
     "output_type": "stream",
     "text": [
      "[48, 47]\n"
     ]
    }
   ],
   "source": [
    "print(xyz)"
   ]
  },
  {
   "cell_type": "code",
   "execution_count": 33,
   "metadata": {},
   "outputs": [
    {
     "name": "stdout",
     "output_type": "stream",
     "text": [
      "19690720\n"
     ]
    }
   ],
   "source": [
    "print(test[0])"
   ]
  },
  {
   "cell_type": "code",
   "execution_count": 34,
   "metadata": {},
   "outputs": [
    {
     "name": "stdout",
     "output_type": "stream",
     "text": [
      "4847\n"
     ]
    }
   ],
   "source": [
    "print(100 * xyz[0] + xyz[1])"
   ]
  },
  {
   "cell_type": "code",
   "execution_count": 60,
   "metadata": {},
   "outputs": [],
   "source": [
    "# 3rd puzzle\n",
    "# 1)\n",
    "import re\n",
    "w1 = \"R1004,U518,R309,D991,R436,D360,L322,U627,R94,D636,L846,D385,R563,U220,L312,D605,L612,D843,R848,U193,L671,D852,L129,D680,L946,D261,L804,D482,R196,U960,L234,U577,R206,D973,R407,D400,R44,D103,R463,U907,L972,U628,L962,U856,L564,D25,L425,U332,R931,U837,R556,U435,R88,U860,L982,D393,R793,D86,R647,D337,R514,D361,L777,U640,R833,D674,L817,D260,R382,U168,R161,U449,L670,U814,L42,U461,R570,U855,L111,U734,L699,U602,R628,D79,L982,D494,L616,D484,R259,U429,L917,D321,R429,U854,R735,D373,L508,D59,L207,D192,L120,D943,R648,U245,L670,D571,L46,D195,L989,U589,L34,D177,L682,U468,L783,D143,L940,U412,R875,D604,R867,D951,L82,U851,L550,D21,L425,D81,L659,D231,R92,D232,R27,D269,L351,D369,R622,U737,R531,U693,R295,U217,R249,U994,R635,U267,L863,U690,L398,U576,R982,U252,L649,U321,L814,U516,R827,U74,L80,U624,L802,D620,L544,U249,R983,U424,R564,D217,R151,U8,L813,D311,R203,U478,R999,U495,R957,U641,R40,U431,L830,U67,L31,U532,R345,U878,L996,D223,L76,D264,R823,U27,L776,U936,L614,U421,L398,U168,L90,U525,R640,U95,L761,U938,R296,D463,L349,D709,R428,U818,L376,D444,L748,D527,L755,U750,R175,U495,R587,D767,L332,U665,L84,D747,L183,D969,R37,D514,R949,U985,R548,U939,L170,U415,R857,D480,R836,D363,R763,D997,R721,D140,R699,U673,L724,U375,R55,U758,R634,D590,L608,U674,R809,U308,L681,D957,R30,D913,L633,D939,L474,D567,R290,D615,L646,D478,L822,D471,L952,D937,R306,U380,R695,U788,R555,D64,R769,D785,R115,U474,R232,U353,R534,D268,L434,U790,L777,D223,L168,U21,L411,D524,R862,D43,L979,U65,R771,U872,L983,U765,R162\"\n",
    "w2 = \"L998,U952,R204,U266,R353,U227,L209,D718,L28,D989,R535,U517,L934,D711,R878,U268,L895,D766,L423,U543,L636,D808,L176,U493,R22,D222,R956,U347,R953,U468,R657,D907,R464,U875,L162,U225,L410,U704,R76,D985,L711,U176,R496,D720,L395,U907,R223,D144,R292,D523,R514,D942,R838,U551,L487,D518,L159,D880,R53,D519,L173,D449,R525,U645,L65,D568,R327,U667,R790,U131,R402,U869,R287,D411,R576,D265,R639,D783,R629,U107,L571,D247,L61,D548,L916,D397,R715,U138,R399,D159,L523,U2,R794,U699,R854,U731,L234,D135,L98,U702,L179,D364,R123,D900,L548,U880,R560,D648,L701,D928,R256,D970,L396,U201,L47,U156,R723,D759,R663,D306,L436,U508,R371,D494,L147,U131,R946,D207,L516,U514,R992,D592,L356,D869,L299,U10,R744,D13,L52,U749,R400,D146,L193,U720,L226,U973,R971,U691,R657,D604,L984,U652,L378,D811,L325,D714,R131,D428,R418,U750,L706,D855,L947,U557,L985,D688,L615,D114,R202,D746,R987,U353,R268,U14,R709,U595,R982,U332,R84,D620,L75,D885,L269,D544,L137,U124,R361,U502,L290,D710,L108,D254,R278,U47,R74,U293,R237,U83,L80,U661,R550,U886,L201,D527,L351,U668,R366,D384,L937,D768,L906,D388,L604,U515,R632,D486,L404,D980,L652,U404,L224,U957,L197,D496,R690,U407,L448,U953,R391,U446,L964,U372,R351,D786,L187,D643,L911,D557,R254,D135,L150,U833,R876,U114,R688,D654,L991,U717,R649,U464,R551,U886,L780,U293,L656,U681,L532,U184,L903,D42,L417,D917,L8,U910,L600,D872,L632,D221,R980,U438,R183,D973,L321,D652,L540,D163,R796,U404,L507,D495,R707,U322,R16,U59,L421,D255,L463,U462,L524,D703,L702,D904,L597,D385,L374,U411,L702,U804,R706,D56,L288\"\n",
    "\n",
    "w1 = w1.split(sep=\",\")\n",
    "w2 = w2.split(sep=\",\")\n",
    "\n",
    "# point = [x, y]\n",
    "# RIGHT -> x + number; LEFT -> x - number; UP -> y + number; DOWN -> y - number \n",
    "p1 = [(0, 0)]\n",
    "p2 = [(0, 0)]"
   ]
  },
  {
   "cell_type": "code",
   "execution_count": 61,
   "metadata": {},
   "outputs": [],
   "source": [
    "pattern = re.compile(r\"\\d{1,}\")\n",
    "\n",
    "#w1 = \"R8,U5,L5,D3\".split(sep=\",\")\n",
    "#w2 = \"U7,R6,D4,L4\".split(sep=\",\")\n",
    "\n",
    "for i in w1:\n",
    "    if i.startswith(\"R\"):\n",
    "        for j in range(1, int(pattern.findall(i)[0]) + 1):\n",
    "            tmp = [p1[-1][0] + 1, p1[-1][1]]\n",
    "            p1.append(tuple(tmp))\n",
    "    elif i.startswith(\"L\"):\n",
    "        for j in range(1, int(pattern.findall(i)[0]) + 1):\n",
    "            tmp = [p1[-1][0] - 1, p1[-1][1]]\n",
    "            p1.append(tuple(tmp))\n",
    "    elif i.startswith(\"U\"):\n",
    "        for j in range(1, int(pattern.findall(i)[0]) + 1):\n",
    "            tmp = [p1[-1][0], p1[-1][1] + 1]\n",
    "            p1.append(tuple(tmp))\n",
    "    else:\n",
    "        for j in range(1, int(pattern.findall(i)[0]) + 1):\n",
    "            tmp = [p1[-1][0], p1[-1][1] - 1]\n",
    "            p1.append(tuple(tmp))\n",
    "    \n",
    "    \n",
    "for i in w2:\n",
    "    if i.startswith(\"R\"):\n",
    "        for j in range(1, int(pattern.findall(i)[0]) + 1):\n",
    "            tmp = [p2[-1][0] + 1, p2[-1][1]]\n",
    "            p2.append(tuple(tmp))\n",
    "    elif i.startswith(\"L\"):\n",
    "        for j in range(1, int(pattern.findall(i)[0]) + 1):\n",
    "            tmp = [p2[-1][0] - 1, p2[-1][1]]\n",
    "            p2.append(tuple(tmp))\n",
    "    elif i.startswith(\"U\"):\n",
    "        for j in range(1, int(pattern.findall(i)[0]) + 1):\n",
    "            tmp = [p2[-1][0], p2[-1][1] + 1]\n",
    "            p2.append(tuple(tmp))\n",
    "    else:\n",
    "        for j in range(1, int(pattern.findall(i)[0]) + 1):\n",
    "            tmp = [p2[-1][0], p2[-1][1] - 1]\n",
    "            p2.append(tuple(tmp))"
   ]
  },
  {
   "cell_type": "code",
   "execution_count": 68,
   "metadata": {},
   "outputs": [],
   "source": [
    "intersection = set(p1[1:]) & set(p2[1:])"
   ]
  },
  {
   "cell_type": "code",
   "execution_count": 70,
   "metadata": {},
   "outputs": [
    {
     "name": "stdout",
     "output_type": "stream",
     "text": [
      "227\n"
     ]
    }
   ],
   "source": [
    "print(min(abs(x)+abs(y) for (x, y) in intersections))"
   ]
  },
  {
   "cell_type": "code",
   "execution_count": 115,
   "metadata": {},
   "outputs": [],
   "source": [
    "x = []\n",
    "for i in intersections:\n",
    "    x.append([p1[1:].index(i) + p2[1:].index(i)])"
   ]
  },
  {
   "cell_type": "code",
   "execution_count": 121,
   "metadata": {},
   "outputs": [
    {
     "data": {
      "text/plain": [
       "20286"
      ]
     },
     "execution_count": 121,
     "metadata": {},
     "output_type": "execute_result"
    }
   ],
   "source": [
    "min(x)[0] + 2 # bo jeszcze pozycje startowe"
   ]
  },
  {
   "cell_type": "code",
   "execution_count": 80,
   "metadata": {},
   "outputs": [
    {
     "name": "stdout",
     "output_type": "stream",
     "text": [
      "227\n",
      "20286\n"
     ]
    }
   ],
   "source": [
    "def process_wire(instr_line):\n",
    "    current_pos = [0, 0]\n",
    "    for instr in instr_line.split(','):\n",
    "        for _ in range(int(instr[1:])):\n",
    "            current_pos[0 if instr[0] in ('L', 'R') else 1] += -1 if instr[0] in ('L', 'D') else 1\n",
    "            yield tuple(current_pos)\n",
    "with open('input.txt', 'r') as f:\n",
    "    wires = [list(process_wire(line)) for line in f.readlines()]\n",
    "intersections = set(wires[0]) & set(wires[1])\n",
    "print(min(abs(x)+abs(y) for (x, y) in intersections)) #Part 1\n",
    "print(2 + min(sum(wire.index(intersect) for wire in wires) for intersect in intersections)) #Part 2"
   ]
  },
  {
   "cell_type": "code",
   "execution_count": 95,
   "metadata": {},
   "outputs": [
    {
     "data": {
      "text/plain": [
       "[40274,\n",
       " 20284,\n",
       " 52068,\n",
       " 39048,\n",
       " 49122,\n",
       " 50988,\n",
       " 41322,\n",
       " 41888,\n",
       " 42784,\n",
       " 40274,\n",
       " 37520,\n",
       " 44216,\n",
       " 44330,\n",
       " 52068,\n",
       " 40926,\n",
       " 24814,\n",
       " 40274,\n",
       " 45070,\n",
       " 42768,\n",
       " 52068,\n",
       " 42430,\n",
       " 40664,\n",
       " 37038,\n",
       " 54186,\n",
       " 48950,\n",
       " 49122,\n",
       " 48236,\n",
       " 21964,\n",
       " 50704,\n",
       " 24814,\n",
       " 36364,\n",
       " 47344,\n",
       " 38516]"
      ]
     },
     "execution_count": 95,
     "metadata": {},
     "output_type": "execute_result"
    }
   ],
   "source": [
    "[sum(wire.index(intersect) for wire in wires) for intersect in intersections]"
   ]
  },
  {
   "cell_type": "code",
   "execution_count": 102,
   "metadata": {},
   "outputs": [
    {
     "data": {
      "text/plain": [
       "13002"
      ]
     },
     "execution_count": 102,
     "metadata": {},
     "output_type": "execute_result"
    }
   ],
   "source": [
    "wires[1].index((-2298, -1219))"
   ]
  },
  {
   "cell_type": "code",
   "execution_count": null,
   "metadata": {},
   "outputs": [],
   "source": []
  }
 ],
 "metadata": {
  "kernelspec": {
   "display_name": "Python 3",
   "language": "python",
   "name": "python3"
  },
  "language_info": {
   "codemirror_mode": {
    "name": "ipython",
    "version": 3
   },
   "file_extension": ".py",
   "mimetype": "text/x-python",
   "name": "python",
   "nbconvert_exporter": "python",
   "pygments_lexer": "ipython3",
   "version": "3.6.8"
  }
 },
 "nbformat": 4,
 "nbformat_minor": 2
}
